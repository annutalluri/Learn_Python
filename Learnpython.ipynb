{
  "nbformat": 4,
  "nbformat_minor": 0,
  "metadata": {
    "colab": {
      "provenance": [],
      "authorship_tag": "ABX9TyMoveIuyp0KAD+vxxopwSnf",
      "include_colab_link": true
    },
    "kernelspec": {
      "name": "python3",
      "display_name": "Python 3"
    },
    "language_info": {
      "name": "python"
    }
  },
  "cells": [
    {
      "cell_type": "markdown",
      "metadata": {
        "id": "view-in-github",
        "colab_type": "text"
      },
      "source": [
        "<a href=\"https://colab.research.google.com/github/annutalluri/Learn_Python/blob/master/Learnpython.ipynb\" target=\"_parent\"><img src=\"https://colab.research.google.com/assets/colab-badge.svg\" alt=\"Open In Colab\"/></a>"
      ]
    },
    {
      "cell_type": "code",
      "execution_count": 2,
      "metadata": {
        "colab": {
          "base_uri": "https://localhost:8080/"
        },
        "id": "dYiTVhc3yJ5a",
        "outputId": "9996b41a-2ca8-4484-e12c-66fc3f1652a6"
      },
      "outputs": [
        {
          "output_type": "stream",
          "name": "stdout",
          "text": [
            "Hello, world! zI have connected google co lab to Github\n"
          ]
        }
      ],
      "source": [
        "# prompt: print\n",
        "\n",
        "print(\"Hello, world! zI have connected google co lab to Github\")\n"
      ]
    },
    {
      "cell_type": "markdown",
      "source": [
        "This is the firtst print statement"
      ],
      "metadata": {
        "id": "aSEo2-oLzpxv"
      }
    },
    {
      "cell_type": "code",
      "source": [],
      "metadata": {
        "id": "ouA-lmFuztEl"
      },
      "execution_count": null,
      "outputs": []
    }
  ]
}